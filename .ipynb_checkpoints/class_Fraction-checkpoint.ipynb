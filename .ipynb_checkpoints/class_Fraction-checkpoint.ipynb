{
 "cells": [
  {
   "cell_type": "code",
   "execution_count": null,
   "id": "17b85404",
   "metadata": {},
   "outputs": [],
   "source": []
  },
  {
   "cell_type": "code",
   "execution_count": 1,
   "id": "298a9942",
   "metadata": {},
   "outputs": [],
   "source": [
    "class Fraction:\n",
    "    \"\"\"\n",
    "    Converts decimal value or a fraction value into simplified fraction value.\n",
    "    attribute:\n",
    "        Input: (string), takes decimal/fraction as input.\n",
    "        eg: '2.33' or '44/77'\n",
    "        \n",
    "        call the result() method to view the output.\n",
    "    \"\"\"\n",
    "    def __init__(self, value):\n",
    "        if type(value) != str:\n",
    "            print('Wrong input. Please provide input in string format.')\n",
    "            # break\n",
    "            return None\n",
    "        else:\n",
    "            if '/' in value:\n",
    "                self.__num = int(value.split('/')[0])\n",
    "                self.__den = int(value.split('/')[1])\n",
    "                self.__simplify()\n",
    "            elif '.' in value:\n",
    "                __len = len(value.strip())-1\n",
    "                __dec_pos = value.strip().index('.')\n",
    "                self.__num = int(value.strip().replace('.',''))\n",
    "                self.__den = 10**(__len - __dec_pos)\n",
    "                self.__simplify()\n",
    "            else:\n",
    "                return 'Wrong input. Please provide decimal / fraction data in string format.'\n",
    "             \n",
    "        \n",
    "    def __simplify(self):\n",
    "        \n",
    "        __n = self.__num\n",
    "        __d = self.__den\n",
    "        __min_number = min(__n,__d)\n",
    "        \n",
    "        # finding H.C.F\n",
    "        __hcf = 1\n",
    "        for i in range(2,__min_number+1):\n",
    "            if (__n%i==0) and (__d%i==0) :\n",
    "                __hcf = i\n",
    "        \n",
    "        # dividing by H.C.F to get simplified fraction\n",
    "        self.__num = __n / __hcf\n",
    "        self.__den = __d / __hcf\n",
    "        \n",
    "                \n",
    "    def result(self):\n",
    "        '''\n",
    "        result method will show my decimal into fraction value.\n",
    "        for eg:-\n",
    "            input = 0.98\n",
    "            output = 49/50\n",
    "        '''\n",
    "        return '{}/{}'.format(int(self.__num), int(self.__den))"
   ]
  },
  {
   "cell_type": "code",
   "execution_count": 3,
   "id": "ba9578d1",
   "metadata": {},
   "outputs": [],
   "source": [
    "f = Fraction('9.89')"
   ]
  },
  {
   "cell_type": "code",
   "execution_count": 4,
   "id": "8fe54b7f",
   "metadata": {},
   "outputs": [
    {
     "data": {
      "text/plain": [
       "'989/100'"
      ]
     },
     "execution_count": 4,
     "metadata": {},
     "output_type": "execute_result"
    }
   ],
   "source": [
    "f.result()"
   ]
  },
  {
   "cell_type": "code",
   "execution_count": 5,
   "id": "4e330b5d",
   "metadata": {},
   "outputs": [
    {
     "data": {
      "text/plain": [
       "'443/5'"
      ]
     },
     "execution_count": 5,
     "metadata": {},
     "output_type": "execute_result"
    }
   ],
   "source": [
    "q=Fraction('88.6')\n",
    "q.result()"
   ]
  },
  {
   "cell_type": "code",
   "execution_count": 6,
   "id": "4673039f",
   "metadata": {},
   "outputs": [],
   "source": [
    "w=Fraction('33/5')"
   ]
  },
  {
   "cell_type": "code",
   "execution_count": 7,
   "id": "90b2938c",
   "metadata": {},
   "outputs": [
    {
     "data": {
      "text/plain": [
       "'33/5'"
      ]
     },
     "execution_count": 7,
     "metadata": {},
     "output_type": "execute_result"
    }
   ],
   "source": [
    "w.result()"
   ]
  },
  {
   "cell_type": "code",
   "execution_count": 6,
   "id": "2e27c306",
   "metadata": {},
   "outputs": [
    {
     "data": {
      "text/plain": [
       "'11/7'"
      ]
     },
     "execution_count": 6,
     "metadata": {},
     "output_type": "execute_result"
    }
   ],
   "source": [
    "r = Fraction('121/77')\n",
    "r.result()"
   ]
  },
  {
   "cell_type": "code",
   "execution_count": 9,
   "id": "4badbeed",
   "metadata": {},
   "outputs": [
    {
     "data": {
      "text/plain": [
       "'49/500'"
      ]
     },
     "execution_count": 9,
     "metadata": {},
     "output_type": "execute_result"
    }
   ],
   "source": [
    "t = Fraction('0.098')\n",
    "t.result()"
   ]
  },
  {
   "cell_type": "code",
   "execution_count": 4,
   "id": "5ef51d3a",
   "metadata": {},
   "outputs": [
    {
     "data": {
      "text/plain": [
       "'148/33'"
      ]
     },
     "execution_count": 4,
     "metadata": {},
     "output_type": "execute_result"
    }
   ],
   "source": [
    "y=Fraction('444/99')\n",
    "y.result()"
   ]
  },
  {
   "cell_type": "code",
   "execution_count": 5,
   "id": "a1794d05",
   "metadata": {},
   "outputs": [
    {
     "data": {
      "text/plain": [
       "'16667/50000'"
      ]
     },
     "execution_count": 5,
     "metadata": {},
     "output_type": "execute_result"
    }
   ],
   "source": [
    "u = Fraction('0.33334')\n",
    "u.result()"
   ]
  },
  {
   "cell_type": "code",
   "execution_count": 2,
   "id": "9d96d5ce",
   "metadata": {},
   "outputs": [],
   "source": [
    "f = Fraction('2.02')"
   ]
  },
  {
   "cell_type": "code",
   "execution_count": 3,
   "id": "556ae6a7",
   "metadata": {},
   "outputs": [
    {
     "data": {
      "text/plain": [
       "'101/50'"
      ]
     },
     "execution_count": 3,
     "metadata": {},
     "output_type": "execute_result"
    }
   ],
   "source": [
    "f.result()"
   ]
  }
 ],
 "metadata": {
  "kernelspec": {
   "display_name": "Python 3 (ipykernel)",
   "language": "python",
   "name": "python3"
  },
  "language_info": {
   "codemirror_mode": {
    "name": "ipython",
    "version": 3
   },
   "file_extension": ".py",
   "mimetype": "text/x-python",
   "name": "python",
   "nbconvert_exporter": "python",
   "pygments_lexer": "ipython3",
   "version": "3.11.5"
  }
 },
 "nbformat": 4,
 "nbformat_minor": 5
}
